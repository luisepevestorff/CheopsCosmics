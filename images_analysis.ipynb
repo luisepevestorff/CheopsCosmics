{
 "cells": [
  {
   "cell_type": "code",
   "execution_count": null,
   "metadata": {},
   "outputs": [],
   "source": [
    "%matplotlib widget\n",
    "import matplotlib.pyplot as plt\n",
    "import numpy as np\n",
    "import ipywidgets\n",
    "from pathlib import Path\n",
    "import pandas as pd\n",
    "from functions import *\n",
    "import numpy as np\n",
    "from functions import apply_filters"
   ]
  },
  {
   "cell_type": "code",
   "execution_count": null,
   "metadata": {},
   "outputs": [],
   "source": [
    "output_folder = Path.cwd()/\"output_plots\""
   ]
  },
  {
   "attachments": {},
   "cell_type": "markdown",
   "metadata": {},
   "source": [
    "# Import and read the dataframe from cn04 "
   ]
  },
  {
   "cell_type": "code",
   "execution_count": null,
   "metadata": {},
   "outputs": [],
   "source": [
    "cwd = Path.cwd()\n",
    "filename = cwd / \"/Users/alexisheitzmann/Documents/CHEOPS/Code/SAA_monitoring_MC/CheopsCosmics/data_2023_01_01_to_2023_12_30.pkl\"\n",
    "data_file = Path(filename)\n",
    "\n",
    "all_data = pd.read_pickle(data_file)"
   ]
  },
  {
   "attachments": {},
   "cell_type": "markdown",
   "metadata": {},
   "source": [
    "add percent/sec"
   ]
  },
  {
   "cell_type": "code",
   "execution_count": null,
   "metadata": {},
   "outputs": [],
   "source": [
    "all_data['percentage_cosmics_per_s'] = all_data['percentage_cosmics']/all_data['exp_time']"
   ]
  },
  {
   "attachments": {},
   "cell_type": "markdown",
   "metadata": {},
   "source": [
    "# Detections"
   ]
  },
  {
   "cell_type": "code",
   "execution_count": null,
   "metadata": {},
   "outputs": [],
   "source": [
    "if len(np.unique(all_data['im_height'])) > 1:\n",
    "    diff_image_types = True # We have different image sizes in all_data\n",
    "    print(f\"Sizes available are {np.unique(all_data['im_height'])}\")\n",
    "else:\n",
    "    diff_image_types = False"
   ]
  },
  {
   "attachments": {},
   "cell_type": "markdown",
   "metadata": {},
   "source": [
    "## Filter images"
   ]
  },
  {
   "cell_type": "code",
   "execution_count": null,
   "metadata": {},
   "outputs": [],
   "source": [
    "# DETECTIONS \n",
    "detections = all_data[all_data['nb_cosmics'] != 0]\n",
    "#detections = all_data[(all_data['density_cosmics'] < 60) & (all_data['density_cosmics'] > 40)]\n",
    "non_detections = all_data[all_data['nb_cosmics'] == 0]\n",
    "\n",
    "max_cosmics = np.max(detections['nb_cosmics'])\n",
    "max_density = np.max(detections['density_cosmics'])\n",
    "\n",
    "print(f'Frame with most cosmics has {max_cosmics} cosmics. largest density is {int(max_density)} hits/cm2/sec')\n",
    "print(f\"{int(len(detections)/len(all_data)*100)}% of visits ({len(detections)}/{len(all_data)}) have detections. {int(len(non_detections))} non detections\\n\")\n",
    "\n",
    "# separate different images sizes\n",
    "if diff_image_types:\n",
    "    size_to_keep = 200\n",
    "    detections_plot = detections[detections['im_height'] == size_to_keep]\n",
    "    non_detections_plot = non_detections[non_detections['im_height'] == size_to_keep]\n",
    "    print(f\"!! Only images of sizes {size_to_keep}*{size_to_keep} are shown !!\\n\")\n",
    "else:     \n",
    "    detections_plot = detections\n",
    "    non_detections_plot = non_detections\n",
    "    \n",
    "## Add other filters \n",
    "# Available filters ['latitude-','latitude+','visit','density_cosmics','nb_cosmics','no_straylight','largest_cosmics', 'percentage_cosmics']\n",
    "filters = ['percentage_cosmics_per_s','no_straylight']#,'percentage_cosmics']#,'largest_cosmics']#,'percentage_cosmics','percentage_cosmics']\n",
    "values = [1,0]#,0.3]#,1000]\n",
    "reverse_filters = [True,False]#, False]\n",
    "\n",
    "print(\"DETECTIONS:\")\n",
    "detections_plot = apply_filters(detections_plot,filters,values,reverse_filters)\n",
    "print(\"\")\n",
    "print(\"NON DETECTIONS:\")\n",
    "non_detections_plot = apply_filters(non_detections_plot,filters,values,reverse_filters)\n",
    "print(\"\")\n",
    "print(\"ALL DATA:\")\n",
    "all_data_filtered = apply_filters(all_data,filters,values,reverse_filters)"
   ]
  },
  {
   "attachments": {},
   "cell_type": "markdown",
   "metadata": {},
   "source": [
    "# Plot detections and non-detections"
   ]
  },
  {
   "cell_type": "code",
   "execution_count": null,
   "metadata": {},
   "outputs": [],
   "source": [
    "detection = True # If False --> non_detections\n",
    "\n",
    "if detection:\n",
    "    str_title = 'DETECTIONS'\n",
    "    data = detections_plot\n",
    "elif ~detection:\n",
    "    str_title = 'NON DETECTIONS'\n",
    "    data = non_detections_plot\n",
    "else:\n",
    "    str_title = 'ALL DATA'\n",
    "\n",
    "\n",
    "data = all_data_filtered  \n",
    "\n",
    "\n",
    "data_to_plot1 = reshape_flatten_images('masked_images', data) \n",
    "data_to_plot2 = reshape_flatten_images('binary_images', data) \n",
    "data_to_plot3 = reshape_flatten_images('derotated_images', data) \n",
    "data_to_plot4 = np.log(reshape_flatten_images('raw_images', data))\n",
    "visit_id = data['visit_ID'].values\n",
    "stacking_order = data['n_exp'].values\n",
    "image_counter = data['img_counter'].values\n",
    "threshold_cosmics = data['threshold_cosmics'].values\n",
    "cosmics = data['nb_cosmics'].values\n",
    "density_cosmics = data['density_cosmics'].values\n",
    "straylight_boolean = data['straylight_boolean'].values\n",
    "largest_cosmics = data['largest_cosmics'].values\n",
    "percentage_cosmics = data['percentage_cosmics'].values\n",
    "\n",
    "def plotimg(idx):\n",
    "    \n",
    "    # Update histogram\n",
    "    ax[0].clear()\n",
    "    ax[0].hist(data_to_plot1[int(idx)].flatten(), bins = 255)#int(np.max(data_to_plot1[int(idx)].flatten())))\n",
    "    #ax[0].set_xlim(0,100)\n",
    "    ax[0].set_ylim(0,2000)\n",
    "    # Update image\n",
    "    img1.set_data(data_to_plot1[int(idx)])\n",
    "    img2.set_data(data_to_plot2[int(idx)])\n",
    "    img3.set_data(data_to_plot3[int(idx)])\n",
    "    ax[1].imshow(data_to_plot1[int(idx)], origin='lower', cmap = 'viridis')\n",
    "    ax[2].imshow(data_to_plot2[int(idx)], origin='lower', cmap = 'viridis')\n",
    "    ax[3].imshow(data_to_plot3[int(idx)], origin='lower', cmap = 'viridis')\n",
    "    ax[4].imshow(data_to_plot4[int(idx)], origin='lower', cmap = 'viridis')\n",
    "    ax[0].axvline(threshold_cosmics[int(idx)], c = 'r',  alpha = 0.5) # median pixel value\n",
    "    ax[0].text(0.25,0.9,f'{int(cosmics[int(idx)])} CRs detected: {np.round(density_cosmics[int(idx)],1)} CR/cm2/s', weight = 'bold', transform=ax[0].transAxes)\n",
    "    fig.suptitle(f'DETECTIONS for visit {visit_id[int(idx)]}, image {image_counter[int(idx)]}, \\n stacking order {stacking_order[int(idx)]}, straylight flag = {straylight_boolean[int(idx)]}, largest_cosmic = {largest_cosmics[int(idx)]} pixels, {np.round(percentage_cosmics[int(idx)],1)}% pixel affected by cosmics ', weight = 'bold')\n",
    "    #plt.colorbar(im)\n",
    "    fig.canvas.draw_idle()\n",
    "    \n",
    "fig, ax = plt.subplots(ncols = 5, figsize=(10,4))\n",
    "img1 = ax[1].imshow(data_to_plot1[0], origin='lower')\n",
    "ax[1].set_title('Masked images')\n",
    "img2 = ax[2].imshow(data_to_plot2[0], origin='lower')\n",
    "ax[2].set_title('Detected cosmic rays')\n",
    "img3 = ax[3].imshow(data_to_plot3[0], origin='lower')\n",
    "ax[3].set_title('Derotated SubArray')\n",
    "# colorbar = plt.colorbar(img)\n",
    "img4 = ax[4].imshow(np.exp(data_to_plot4[0]), origin='lower')\n",
    "ax[4].set_title('Original images')\n",
    "\n",
    "ax[0].set_xlabel('Brightness')\n",
    "ax[0].set_ylabel('Nb of pixels')\n",
    "\n",
    "fig.suptitle(f\"DETECTIONS for visit {visit_id[0]}, image {image_counter[0]}, \\n stacking order {stacking_order[0]}\", weight = 'bold')\n",
    "ipywidgets.interact(plotimg, idx = ipywidgets.FloatSlider(value=0,min=0,max=np.shape(data_to_plot1)[0]-1,step=1))\n",
    "plt.show()"
   ]
  }
 ],
 "metadata": {
  "kernelspec": {
   "display_name": "py3109",
   "language": "python",
   "name": "python3"
  },
  "language_info": {
   "codemirror_mode": {
    "name": "ipython",
    "version": 3
   },
   "file_extension": ".py",
   "mimetype": "text/x-python",
   "name": "python",
   "nbconvert_exporter": "python",
   "pygments_lexer": "ipython3",
   "version": "3.11.4"
  },
  "orig_nbformat": 4
 },
 "nbformat": 4,
 "nbformat_minor": 2
}
